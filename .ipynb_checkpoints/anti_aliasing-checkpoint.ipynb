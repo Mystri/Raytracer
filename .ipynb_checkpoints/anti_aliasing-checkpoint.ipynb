{
 "cells": [
  {
   "cell_type": "code",
   "execution_count": 1,
   "metadata": {},
   "outputs": [],
   "source": [
    "import numpy as np\n",
    "from PIL import Image\n",
    "import math\n",
    "import random\n",
    "\n",
    "from ray import *\n",
    "from hittable import *\n",
    "from camera import *\n",
    "\n",
    "\n",
    "def degrees_to_radians(doubledegrees):\n",
    "    return degrees * pi / 180.0;\n",
    "def normalize(v):\n",
    "    norm = np.linalg.norm(v)\n",
    "    if norm == 0: \n",
    "       return v\n",
    "    return v / norm\n",
    "def color(array):\n",
    "    c = array\n",
    "    c[0] = clamp(c[0], 0, 0.9999)\n",
    "    c[1] = clamp(c[1], 0, 0.9999)\n",
    "    c[2] = clamp(c[2], 0, 0.9999)\n",
    "    c = np.multiply(255.0, c)\n",
    "    return c\n",
    "def sample_color(array, samples_per_pixel):\n",
    "\n",
    "    c = np.multiply(1 / samples_per_pixel, array)\n",
    "    c[0] = clamp(c[0], 0, 0.9999)\n",
    "    c[1] = clamp(c[1], 0, 0.9999)\n",
    "    c[2] = clamp(c[2], 0, 0.9999)\n",
    "    c = np.multiply(256, c)    \n",
    "    \n",
    "    return c\n",
    "\n",
    "def clamp(x, x_min, x_max):\n",
    "    if x < x_min :\n",
    "        return x_min\n",
    "    if x > x_max :\n",
    "        return x_max\n",
    "    return x\n"
   ]
  },
  {
   "cell_type": "code",
   "execution_count": 2,
   "metadata": {},
   "outputs": [],
   "source": [
    "# return the color of a ray\n",
    "# form: np.array(1, 1, 1)\n",
    "# world: hittable_list of all objects\n",
    "def ray_color(r, world):\n",
    "    rec = hit_record()\n",
    "    hit_something, rec = world.hit(r, 0, math.inf, rec)\n",
    "    if (hit_something):\n",
    "        return 0.5 * (rec.normal + np.array([1, 1, 1]))\n",
    "    \n",
    "#     No Object hit (Background)\n",
    "    unit_direction = normalize(r.direction)\n",
    "    t = 0.5 * (unit_direction[1] + 1)\n",
    "    return (1.0 - t) * np.array([1, 1, 1]) + t * np.array([0.5, 0.7, 1.0])"
   ]
  },
  {
   "cell_type": "code",
   "execution_count": null,
   "metadata": {},
   "outputs": [
    {
     "name": "stdout",
     "output_type": "stream",
     "text": [
      "image width:  160  image height:  120\n",
      "100 Scanlines remaining\n",
      "50 Scanlines remaining\n"
     ]
    }
   ],
   "source": [
    "# main\n",
    "\n",
    "# Image\n",
    "image_width = 80\n",
    "image_height = 60\n",
    "aspect_ratio = image_width / image_height\n",
    "samples_per_pixel = 30\n",
    "\n",
    "# PIL preprocessing to use PIL coordinates\n",
    "img = Image.new(mode = \"RGB\", size = (image_width, image_height), color = 0)\n",
    "img_array = np.array(img)\n",
    "img_array = np.swapaxes(img_array, 1, 0)\n",
    "\n",
    "\n",
    "\n",
    "# World object list\n",
    "world = hittable_list()\n",
    "world.add(sphere(np.array([0, 0, -1]), 0.5))\n",
    "world.add(sphere(np.array([0, -100.5, -1]), 100))\n",
    "\n",
    "\n",
    "#Camera\n",
    "cam = camera()\n",
    "\n",
    "\n",
    "# Render\n",
    "print(\"image width: \", image_width,\" image height: \", image_height)\n",
    "for j in reversed(range(image_height)):\n",
    "    if j % 50 == 0:\n",
    "        print(j, \"Scanlines remaining\")\n",
    "    for i in range(image_width):\n",
    "        pixel_color = np.array([0.0, 0.0, 0.0])\n",
    "        for s in range(samples_per_pixel):\n",
    "            u = (i + random.random()) / (image_width - 1)\n",
    "            v = (j + random.random()) / (image_height - 1)\n",
    "            r = cam.get_ray(u, v)\n",
    "            pixel_color += ray_color(r, world)\n",
    "        img_array[i][j] = sample_color(pixel_color, samples_per_pixel)\n",
    "\n",
    "print(\"Done\")"
   ]
  },
  {
   "cell_type": "code",
   "execution_count": 6,
   "metadata": {},
   "outputs": [],
   "source": [
    "final_img_array = np.swapaxes(img_array, 1, 0)\n",
    "final_img_array = np.flip(final_img_array, 0)\n",
    "new_pic = Image.fromarray(final_img_array.astype('uint8'), 'RGB')\n",
    "new_pic.show()"
   ]
  },
  {
   "cell_type": "code",
   "execution_count": null,
   "metadata": {},
   "outputs": [],
   "source": []
  }
 ],
 "metadata": {
  "kernelspec": {
   "display_name": "Python 3",
   "language": "python",
   "name": "python3"
  },
  "language_info": {
   "codemirror_mode": {
    "name": "ipython",
    "version": 3
   },
   "file_extension": ".py",
   "mimetype": "text/x-python",
   "name": "python",
   "nbconvert_exporter": "python",
   "pygments_lexer": "ipython3",
   "version": "3.8.5"
  }
 },
 "nbformat": 4,
 "nbformat_minor": 4
}
