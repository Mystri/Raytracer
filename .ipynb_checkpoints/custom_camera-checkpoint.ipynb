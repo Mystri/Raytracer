{
 "cells": [
  {
   "cell_type": "code",
   "execution_count": 2,
   "metadata": {},
   "outputs": [],
   "source": [
    "import numpy as np\n",
    "import math\n",
    "import random\n",
    "\n",
    "from PIL import Image\n",
    "\n",
    "from ray_object import *\n",
    "from hittable import *\n",
    "from camera import *\n",
    "from materials import *\n",
    "from functions import *\n",
    "\n"
   ]
  },
  {
   "cell_type": "code",
   "execution_count": 3,
   "metadata": {},
   "outputs": [],
   "source": [
    "# return the color of a ray\n",
    "# form: np.array(1, 1, 1)\n",
    "# world: hittable_list of all objects\n",
    "def ray_color(r, world, depth):\n",
    "    rec = hit_record()\n",
    "    if (depth <= 0):\n",
    "        return np.array([0, 0, 0])\n",
    "    \n",
    "    hit_something, rec = world.hit(r, 0.001, math.inf, rec)\n",
    "    if (hit_something):\n",
    "        has_reflection,scattered, attenuation = rec.material.scatter(r, rec)\n",
    "        if (has_reflection):\n",
    "            return (np.multiply(attenuation, ray_color(scattered, world, depth - 1)))\n",
    "        return np.array([0, 0, 0])\n",
    "    \n",
    "#     No Object hit (Background)\n",
    "    unit_direction = normalize(r.direction)\n",
    "    t = 0.5 * (unit_direction[1] + 1)\n",
    "    return (1.0 - t) * np.array([1, 1, 1]) + t * np.array([0.5, 0.7, 1.0])"
   ]
  },
  {
   "cell_type": "code",
   "execution_count": 4,
   "metadata": {},
   "outputs": [
    {
     "name": "stdout",
     "output_type": "stream",
     "text": [
      "image width:  128  image height:  96\n",
      "50 Scanlines remaining\n",
      "0 Scanlines remaining\n",
      "Done\n"
     ]
    }
   ],
   "source": [
    "# main\n",
    "\n",
    "# Image\n",
    "image_width = 128\n",
    "image_height = 96\n",
    "aspect_ratio = image_width / image_height\n",
    "samples_per_pixel = 20\n",
    "max_depth = 20\n",
    "R = math.pi / 4\n",
    "\n",
    "\n",
    "# PIL preprocessing to use PIL coordinates\n",
    "img = Image.new(mode = \"RGB\", size = (image_width, image_height), color = 0)\n",
    "img_array = np.array(img)\n",
    "img_array = np.swapaxes(img_array, 1, 0)\n",
    "\n",
    "\n",
    "\n",
    "# World object list\n",
    "world = hittable_list()\n",
    "\n",
    "material_ground = lambertian(np.array([0.8, 0.8, 0.0]))\n",
    "material_center = lambertian(np.array([0.1, 0.2, 0.5]))\n",
    "material_left = dielectric(1.5)\n",
    "material_right = metal(np.array([0.8, 0.6, 0.2]), 1.0)\n",
    "\n",
    "world.add(sphere(np.array([0, 0, -1]), 0.5, material_center))\n",
    "world.add(sphere(np.array([-1, 0, -1]), 0.5, material_left))\n",
    "world.add(sphere(np.array([0, 0, -1]), -0.45, material_left))\n",
    "world.add(sphere(np.array([1, 0, -1]), 0.5, material_right))\n",
    "world.add(sphere(np.array([0, -100.5, -1]), 100, material_ground))\n",
    "\n",
    "#Camera\n",
    "lookfrom = np.array([3, 3, 2])\n",
    "lookat = np.array([0, 0, -1])\n",
    "vup = np.array([0, 1, 0])\n",
    "focus_dist = np.linalg.norm(lookfrom - lookat)\n",
    "aperture = 2.0\n",
    "cam = camera(lookfrom, lookat,vup, 20, aspect_ratio, aperture, focus_dist)\n",
    "\n",
    "\n",
    "# Render\n",
    "print(\"image width: \", image_width,\" image height: \", image_height)\n",
    "for j in reversed(range(image_height)):\n",
    "    if j % 50 == 0:\n",
    "        print(j, \"Scanlines remaining\")\n",
    "    for i in range(image_width):\n",
    "        pixel_color = np.array([0.0, 0.0, 0.0])\n",
    "        for s in range(samples_per_pixel):\n",
    "            u = (i + random.random()) / (image_width - 1)\n",
    "            v = (j + random.random()) / (image_height - 1)\n",
    "            r = cam.get_ray(u, v)\n",
    "            pixel_color += ray_color(r, world, max_depth)\n",
    "        img_array[i][j] = sample_color(pixel_color, samples_per_pixel)\n",
    "\n",
    "\n",
    "print(\"Done\")"
   ]
  },
  {
   "cell_type": "code",
   "execution_count": 7,
   "metadata": {},
   "outputs": [],
   "source": [
    "final_img_array = np.swapaxes(img_array, 1, 0)\n",
    "final_img_array = np.flip(final_img_array, 0)\n",
    "new_pic = Image.fromarray(final_img_array.astype('uint8'), 'RGB')\n",
    "new_pic.show()"
   ]
  },
  {
   "cell_type": "code",
   "execution_count": null,
   "metadata": {},
   "outputs": [],
   "source": [
    "import functions\n",
    "functions.random_in_unit_disk()"
   ]
  },
  {
   "cell_type": "code",
   "execution_count": null,
   "metadata": {},
   "outputs": [],
   "source": []
  }
 ],
 "metadata": {
  "kernelspec": {
   "display_name": "Python 3",
   "language": "python",
   "name": "python3"
  }
 },
 "nbformat": 4,
 "nbformat_minor": 4
}
