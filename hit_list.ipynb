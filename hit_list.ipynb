{
 "cells": [
  {
   "cell_type": "code",
   "execution_count": 6,
   "metadata": {},
   "outputs": [],
   "source": [
    "import numpy as np\n",
    "from PIL import Image\n",
    "import math\n",
    "import random\n",
    "\n",
    "from ray import *\n",
    "from hittable import *\n",
    "from camera import *\n",
    "\n",
    "def degrees_to_radians(doubledegrees):\n",
    "    return degrees * pi / 180.0;\n",
    "def normalize(v):\n",
    "    norm = np.linalg.norm(v)\n",
    "    if norm == 0: \n",
    "       return v\n",
    "    return v / norm\n",
    "def color(array):\n",
    "    c = np.multiply(255.0, array)\n",
    "    return c"
   ]
  },
  {
   "cell_type": "code",
   "execution_count": 7,
   "metadata": {},
   "outputs": [],
   "source": [
    "# return the color of a ray\n",
    "# form: np.array(255, 255, 255)\n",
    "# world: hittable_list of all objects\n",
    "def ray_color(r, world):\n",
    "    rec = hit_record()\n",
    "    hit_something, rec = world.hit(r, 0, math.inf, rec)\n",
    "    if (hit_something):\n",
    "#         print(rec.normal)\n",
    "        return 0.5 * color(rec.normal + np.array([1, 1, 1]))\n",
    "    \n",
    "#     No Object hit (Background)\n",
    "    unit_direction = normalize(r.direction)\n",
    "    t = 0.5 * (unit_direction[1] + 1)\n",
    "    return (1.0 - t) * color(np.array([1, 1, 1])) + t * color(np.array([0.5, 0.7, 1.0]))"
   ]
  },
  {
   "cell_type": "code",
   "execution_count": 8,
   "metadata": {},
   "outputs": [
    {
     "name": "stdout",
     "output_type": "stream",
     "text": [
      "image width:  160  image height:  120\n",
      "100 Scanlines remaining\n",
      "50 Scanlines remaining\n",
      "0 Scanlines remaining\n",
      "Done\n"
     ]
    }
   ],
   "source": [
    "# main\n",
    "\n",
    "# Image\n",
    "image_width = 160\n",
    "image_height = 120\n",
    "aspect_ratio = image_width / image_height\n",
    "\n",
    "# PIL preprocessing to use PIL coordinates\n",
    "img = Image.new(mode = \"RGB\", size = (image_width, image_height), color = 0)\n",
    "img_array = np.array(img)\n",
    "img_array = np.swapaxes(img_array, 1, 0)\n",
    "\n",
    "# Camera\n",
    "viewport_height = 2\n",
    "viewport_width = aspect_ratio * 2\n",
    "focal_length = 1\n",
    "\n",
    "# World object list\n",
    "world = hittable_list()\n",
    "world.add(sphere(np.array([0, 0, -1]), 0.5))\n",
    "world.add(sphere(np.array([0, -100.5, -1]), 100))\n",
    "\n",
    "\n",
    "\n",
    "\n",
    "origin = np.array([0, 0, 0])\n",
    "horizontal = np.array([viewport_width, 0, 0])\n",
    "vertical = np.array([0, viewport_height, 0])\n",
    "lower_left_corner = origin - horizontal / 2 - vertical / 2 - np.array([0, 0, focal_length])\n",
    "\n",
    "# Render\n",
    "print(\"image width: \", image_width,\" image height: \", image_height)\n",
    "for j in reversed(range(image_height)):\n",
    "    if j % 50 == 0:\n",
    "        print(j, \"Scanlines remaining\")\n",
    "    for i in range(image_width):\n",
    "        u = i / (image_width - 1)\n",
    "        v = j / (image_height - 1)\n",
    "        r = Ray(origin, lower_left_corner + u * horizontal + v * vertical - origin)\n",
    "        img_array[i][j] = ray_color(r, world)\n",
    "\n",
    "print(\"Done\")"
   ]
  },
  {
   "cell_type": "code",
   "execution_count": 9,
   "metadata": {},
   "outputs": [],
   "source": [
    "final_img_array = np.swapaxes(img_array, 1, 0)\n",
    "final_img_array = np.flip(final_img_array, 0)\n",
    "new_pic = Image.fromarray(final_img_array.astype('uint8'), 'RGB')\n",
    "new_pic.show()"
   ]
  },
  {
   "cell_type": "code",
   "execution_count": null,
   "metadata": {},
   "outputs": [],
   "source": []
  }
 ],
 "metadata": {
  "kernelspec": {
   "display_name": "Python 3",
   "language": "python",
   "name": "python3"
  },
  "language_info": {
   "codemirror_mode": {
    "name": "ipython",
    "version": 3
   },
   "file_extension": ".py",
   "mimetype": "text/x-python",
   "name": "python",
   "nbconvert_exporter": "python",
   "pygments_lexer": "ipython3",
   "version": "3.8.5"
  }
 },
 "nbformat": 4,
 "nbformat_minor": 4
}
